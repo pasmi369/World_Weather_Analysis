{
 "cells": [
  {
   "cell_type": "code",
   "execution_count": 7,
   "id": "funded-spoke",
   "metadata": {},
   "outputs": [],
   "source": [
    "#Import the dependencies.\n",
    "import requests\n",
    "import gmaps\n",
    "\n",
    "#Import API key\n",
    "from config import g_key"
   ]
  },
  {
   "cell_type": "code",
   "execution_count": 21,
   "id": "civil-graduate",
   "metadata": {},
   "outputs": [],
   "source": [
    "#set the parameters to search for a hotel in Paris.\n",
    "params = {\n",
    "    \"radius\": 5000,\n",
    "    \"types\": \"lodging\",\n",
    "    \"key\": g_key,\n",
    "    \"location\": \"48.8566,2.3522\"}\n",
    "\n",
    "#use base URL to search for hotels in Paris.\n",
    "base_url = \"https://maps.googleapis.com/maps/api/place/nearbysearch/json\"\n",
    "\n",
    "#Make request and get the JSON data from the search\n",
    "hotels = requests.get(base_url, params=params).json()\n"
   ]
  },
  {
   "cell_type": "code",
   "execution_count": 13,
   "id": "hindu-fellowship",
   "metadata": {},
   "outputs": [
    {
     "data": {
      "text/plain": [
       "20"
      ]
     },
     "execution_count": 13,
     "metadata": {},
     "output_type": "execute_result"
    }
   ],
   "source": [
    "len(hotels[\"results\"])"
   ]
  },
  {
   "cell_type": "code",
   "execution_count": 15,
   "id": "leading-accessory",
   "metadata": {},
   "outputs": [
    {
     "data": {
      "text/plain": [
       "'Hôtel Duo'"
      ]
     },
     "execution_count": 15,
     "metadata": {},
     "output_type": "execute_result"
    }
   ],
   "source": [
    "hotels[\"results\"][0][\"name\"]"
   ]
  },
  {
   "cell_type": "code",
   "execution_count": 16,
   "id": "available-athens",
   "metadata": {},
   "outputs": [
    {
     "data": {
      "text/plain": [
       "dict_keys(['html_attributions', 'next_page_token', 'results', 'status'])"
      ]
     },
     "execution_count": 16,
     "metadata": {},
     "output_type": "execute_result"
    }
   ],
   "source": [
    "hotels.keys()"
   ]
  },
  {
   "cell_type": "code",
   "execution_count": 22,
   "id": "liable-commission",
   "metadata": {},
   "outputs": [
    {
     "data": {
      "text/plain": [
       "{'business_status': 'OPERATIONAL',\n",
       " 'geometry': {'location': {'lat': 48.8581126, 'lng': 2.3529277},\n",
       "  'viewport': {'northeast': {'lat': 48.8594393802915,\n",
       "    'lng': 2.354352980291503},\n",
       "   'southwest': {'lat': 48.8567414197085, 'lng': 2.351655019708499}}},\n",
       " 'icon': 'https://maps.gstatic.com/mapfiles/place_api/icons/v1/png_71/lodging-71.png',\n",
       " 'name': 'Hôtel Duo',\n",
       " 'opening_hours': {'open_now': True},\n",
       " 'photos': [{'height': 3840,\n",
       "   'html_attributions': ['<a href=\"https://maps.google.com/maps/contrib/107554201425443337224\">Hôtel Duo</a>'],\n",
       "   'photo_reference': 'ATtYBwJ6z8bc0jfZgVLlq83dFoTemoSBqKFp3NF0RG6FpeyezsjDEjOt7PPD5CoScruWDw-Qp64YJukaueFavyAe-V9eQTv-T0Lzt93kmAikWB6c8SOIMIHMuBpCKN0VSWBY1fjKNn1kpLpEefBvV51aywKnUfuXoHq6ve6E-ngvdQr8K9Ei',\n",
       "   'width': 5760}],\n",
       " 'place_id': 'ChIJWU9CqB1u5kcR5P1F2SMoJmc',\n",
       " 'plus_code': {'compound_code': 'V953+65 Paris, France',\n",
       "  'global_code': '8FW4V953+65'},\n",
       " 'rating': 4.2,\n",
       " 'reference': 'ChIJWU9CqB1u5kcR5P1F2SMoJmc',\n",
       " 'scope': 'GOOGLE',\n",
       " 'types': ['night_club',\n",
       "  'spa',\n",
       "  'lodging',\n",
       "  'bar',\n",
       "  'gym',\n",
       "  'health',\n",
       "  'point_of_interest',\n",
       "  'establishment'],\n",
       " 'user_ratings_total': 279,\n",
       " 'vicinity': '11 Rue du Temple, Paris'}"
      ]
     },
     "execution_count": 22,
     "metadata": {},
     "output_type": "execute_result"
    }
   ],
   "source": [
    "hotels[\"results\"][0]"
   ]
  },
  {
   "cell_type": "code",
   "execution_count": null,
   "id": "romantic-trust",
   "metadata": {},
   "outputs": [],
   "source": []
  }
 ],
 "metadata": {
  "kernelspec": {
   "display_name": "PythonData",
   "language": "python",
   "name": "pythondata"
  },
  "language_info": {
   "codemirror_mode": {
    "name": "ipython",
    "version": 3
   },
   "file_extension": ".py",
   "mimetype": "text/x-python",
   "name": "python",
   "nbconvert_exporter": "python",
   "pygments_lexer": "ipython3",
   "version": "3.8.5"
  },
  "varInspector": {
   "cols": {
    "lenName": 16,
    "lenType": 16,
    "lenVar": 40
   },
   "kernels_config": {
    "python": {
     "delete_cmd_postfix": "",
     "delete_cmd_prefix": "del ",
     "library": "var_list.py",
     "varRefreshCmd": "print(var_dic_list())"
    },
    "r": {
     "delete_cmd_postfix": ") ",
     "delete_cmd_prefix": "rm(",
     "library": "var_list.r",
     "varRefreshCmd": "cat(var_dic_list()) "
    }
   },
   "types_to_exclude": [
    "module",
    "function",
    "builtin_function_or_method",
    "instance",
    "_Feature"
   ],
   "window_display": false
  }
 },
 "nbformat": 4,
 "nbformat_minor": 5
}
